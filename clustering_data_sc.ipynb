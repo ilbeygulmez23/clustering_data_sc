{
 "cells": [
  {
   "cell_type": "markdown",
   "id": "c61025bb",
   "metadata": {},
   "source": [
    "# Implementation of clustering algorithms\n",
    "\n",
    "Build K-Means and Agglomerative Clustering models to perform an unsupervised clustering by using given data. Follow below steps as a guideline for building your model and explain each of them in code lines. \n",
    "\n",
    "* Data cleaning \n",
    "\n",
    "Start with data cleaning to ensure that your data is correct, consistent and usable. The techniques used for data cleaning may vary but you can consider to follow these basic steps: handling missing values, encoding categorical features, extracting useful features by using existing features, handling outliers etc.\n",
    "\n",
    "* Data Preprocessing\n",
    "\n",
    "In this step you should transform raw data into an understandable format for machine learning algorithms. This step may include scaling the features, performing dimensionality reduction etc.\n",
    "\n",
    "* Clustering \n",
    "\n",
    "The goal of this step is to find distinct groups or “clusters” within a data set by using K-Means and Agglomerative Clustering Algorithms. Apply Elbow Method to determine the number of clusters. After building models, examine and comment the clusters formed via scatter plot.\n",
    "\n",
    "* Silhouette Scores \n",
    "\n",
    "To evaluate how “well clustered” data points are, use the “silhouette score” and plot the Silhouette Scores for all of data points.\n",
    "\n",
    "Note: Don't forget to explain your codes and comment on the obtained result."
   ]
  },
  {
   "cell_type": "markdown",
   "id": "aaaea297",
   "metadata": {},
   "source": [
    "# Assignment 5"
   ]
  },
  {
   "cell_type": "markdown",
   "id": "af24a8d7",
   "metadata": {},
   "source": [
    "Importing Necessary Libraries"
   ]
  },
  {
   "cell_type": "code",
   "execution_count": 33,
   "id": "bdac0b2b",
   "metadata": {},
   "outputs": [],
   "source": [
    "import pandas as pd\n",
    "import warnings\n",
    "warnings.filterwarnings('ignore')\n",
    "from sklearn.preprocessing import StandardScaler\n",
    "from sklearn.cluster import KMeans, AgglomerativeClustering\n",
    "from sklearn.metrics import silhouette_samples,silhouette_score\n",
    "import matplotlib.pyplot as plt\n",
    "from sklearn.feature_selection import SelectKBest, chi2"
   ]
  },
  {
   "cell_type": "markdown",
   "id": "9e7b1adf",
   "metadata": {},
   "source": [
    "Data Preprocessing"
   ]
  },
  {
   "cell_type": "code",
   "execution_count": 42,
   "id": "68fc9326",
   "metadata": {},
   "outputs": [
    {
     "name": "stdout",
     "output_type": "stream",
     "text": [
      "               age          bmi     children       charges   sex_female  \\\n",
      "count  1338.000000  1338.000000  1338.000000   1338.000000  1338.000000   \n",
      "mean     39.207025    30.663397     1.094918  13270.422265     0.494768   \n",
      "std      14.049960     6.098187     1.205493  12110.011237     0.500160   \n",
      "min      18.000000    15.960000     0.000000   1121.873900     0.000000   \n",
      "25%      27.000000    26.296250     0.000000   4740.287150     0.000000   \n",
      "50%      39.000000    30.400000     1.000000   9382.033000     0.000000   \n",
      "75%      51.000000    34.693750     2.000000  16639.912515     1.000000   \n",
      "max      64.000000    53.130000     5.000000  63770.428010     1.000000   \n",
      "\n",
      "          sex_male    smoker_no   smoker_yes  region_northeast  \\\n",
      "count  1338.000000  1338.000000  1338.000000       1338.000000   \n",
      "mean      0.505232     0.795217     0.204783          0.242152   \n",
      "std       0.500160     0.403694     0.403694          0.428546   \n",
      "min       0.000000     0.000000     0.000000          0.000000   \n",
      "25%       0.000000     1.000000     0.000000          0.000000   \n",
      "50%       1.000000     1.000000     0.000000          0.000000   \n",
      "75%       1.000000     1.000000     0.000000          0.000000   \n",
      "max       1.000000     1.000000     1.000000          1.000000   \n",
      "\n",
      "       region_northwest  region_southeast  region_southwest  \n",
      "count       1338.000000       1338.000000       1338.000000  \n",
      "mean           0.242900          0.272048          0.242900  \n",
      "std            0.428995          0.445181          0.428995  \n",
      "min            0.000000          0.000000          0.000000  \n",
      "25%            0.000000          0.000000          0.000000  \n",
      "50%            0.000000          0.000000          0.000000  \n",
      "75%            0.000000          1.000000          0.000000  \n",
      "max            1.000000          1.000000          1.000000  \n"
     ]
    }
   ],
   "source": [
    "# Load the data from the CSV file\n",
    "df = pd.read_csv('dataset.csv')\n",
    "\n",
    "print(df.describe())\n",
    "\n",
    "# Encode categorical features\n",
    "df = pd.get_dummies(df)\n",
    "\n",
    "# Handle missing values\n",
    "df = df.fillna(df.mean())\n",
    "\n",
    "# Extract useful features using SelectKBest\n",
    "y = df['age']\n",
    "X = df.drop('age', axis=1)\n",
    "X_new = SelectKBest(score_func = chi2, k=2).fit_transform(X, y)\n",
    "\n",
    "# Scale the features using StandardScaler\n",
    "scaler = StandardScaler()\n",
    "X_scaled = scaler.fit_transform(X_new)"
   ]
  },
  {
   "cell_type": "markdown",
   "id": "897582c8",
   "metadata": {},
   "source": [
    "Data has no null values,and no outliers needed to drop."
   ]
  },
  {
   "cell_type": "markdown",
   "id": "6e54d1ff",
   "metadata": {},
   "source": [
    "Clustering for KMeans and Detection of Suitable Cluster Number"
   ]
  },
  {
   "cell_type": "code",
   "execution_count": 35,
   "id": "26b59d21",
   "metadata": {},
   "outputs": [
    {
     "data": {
      "text/plain": [
       "<Figure size 432x288 with 0 Axes>"
      ]
     },
     "execution_count": 35,
     "metadata": {},
     "output_type": "execute_result"
    },
    {
     "data": {
      "image/png": "[encoded data removed]",
      "text/plain": [
       "<Figure size 432x288 with 1 Axes>"
      ]
     },
     "metadata": {
      "needs_background": "light"
     },
     "output_type": "display_data"
    },
    {
     "data": {
      "image/png": "[encoded data removed]",
      "text/plain": [
       "<Figure size 432x288 with 1 Axes>"
      ]
     },
     "metadata": {
      "needs_background": "light"
     },
     "output_type": "display_data"
    },
    {
     "data": {
      "text/plain": [
       "<Figure size 432x288 with 0 Axes>"
      ]
     },
     "metadata": {},
     "output_type": "display_data"
    }
   ],
   "source": [
    "# Apply the elbow method to determine the optimal number of clusters for K-Means\n",
    "wcss = []\n",
    "for i in range(1, 11):\n",
    "    kmeans = KMeans(n_clusters=i, init='k-means++', max_iter=300, n_init=10, random_state=0)\n",
    "    kmeans.fit(X_scaled)\n",
    "    wcss.append(kmeans.inertia_)\n",
    "plt.plot(range(1, 11), wcss)\n",
    "plt.title('Elbow Method')\n",
    "plt.xlabel('Number of clusters')\n",
    "plt.ylabel('WCSS')\n",
    "plt.figure()\n",
    "\n",
    "# Build the K-Means model with the optimal number of clusters\n",
    "kmeans = KMeans(n_clusters=3, init='k-means++', max_iter=300, n_init=10, random_state=0)\n",
    "pred_kmeans = kmeans.fit_predict(X_scaled)\n",
    "\n",
    "# Plot the clusters formed by the K-Means model\n",
    "plt.scatter(X_scaled[:, 0], X_scaled[:, 1], c=pred_kmeans, cmap='viridis')\n",
    "plt.title('K-Means Clustering')\n",
    "plt.xlabel('sex') #checked with get_support() method,these are the 2 features KBest has chosen\n",
    "plt.ylabel('bmi')\n",
    "plt.figure()"
   ]
  },
  {
   "cell_type": "markdown",
   "id": "7a4d79e6",
   "metadata": {},
   "source": [
    "We can see that from the Elbow Curve,suitable value for n_clusters is 3."
   ]
  },
  {
   "cell_type": "markdown",
   "id": "be2ab730",
   "metadata": {},
   "source": [
    "We can see that in K-Means Clustering,there is a cluster in the lower left corner where is bmi and sex levels are low, (meaning sex tends to be male,so we have males with low bmi),it is narrowly distributed compared to others and we have a cluster in lower right corner which has low bmi and high sex levels (meaning sex tends to be female,so we have females with low bmi),this is distributed moderately compared to others.Finally we have a cluster in upper left-upper mid area which seems to contain a large range of sex and as the sex go higher ,(female) bmi range goes steadier between 2-3,and it is the widest and best distributed cluster in all 3."
   ]
  },
  {
   "cell_type": "markdown",
   "id": "c94c75d6",
   "metadata": {},
   "source": [
    "Silhouette Table for KMeans"
   ]
  },
  {
   "cell_type": "code",
   "execution_count": 36,
   "id": "1760c7c0",
   "metadata": {},
   "outputs": [
    {
     "data": {
      "text/plain": [
       "Text(0.5, 1.0, 'Silhouette Score of KMeans')"
      ]
     },
     "execution_count": 36,
     "metadata": {},
     "output_type": "execute_result"
    },
    {
     "data": {
      "image/png": "[encoded data removed]",
      "text/plain": [
       "<Figure size 432x288 with 1 Axes>"
      ]
     },
     "metadata": {
      "needs_background": "light"
     },
     "output_type": "display_data"
    }
   ],
   "source": [
    "# Calculate the silhouette scores for the K-Means model\n",
    "scores_kmeans = silhouette_samples(X_scaled, pred_kmeans)\n",
    "# Create a DataFrame to store the silhouette scores and cluster labels\n",
    "scorek_df = pd.DataFrame({'score': scores_kmeans, 'label': pred_kmeans})\n",
    "\n",
    "# Group the scores by cluster label and compute summary statistics\n",
    "stats_k = scorek_df.groupby('label').agg(['mean', 'std'])\n",
    "# Create a figure and axis\n",
    "fig, ax = plt.subplots()\n",
    "\n",
    "# Plot the mean and standard deviation of the silhouette scores\n",
    "ax.barh(stats_k.index, stats_k['score']['mean'], align='center', alpha=0.5, ecolor='black', capsize=10,color = ['purple','yellow','cyan'])\n",
    "\n",
    "# Add axis labels and a title\n",
    "ax.set_xlabel('Cluster label')\n",
    "ax.set_ylabel('Silhouette score')\n",
    "ax.set_title('Silhouette Score of KMeans')"
   ]
  },
  {
   "cell_type": "markdown",
   "id": "13a7b518",
   "metadata": {},
   "source": [
    "We see that purple has a lowest silhouette score,so we can say that purple has clustered closer compared to others (as can be seen in K-Means Clustering table),when cyan has the highest silhouette score,meaning it is clustered wider and more distinctive (as can be seen in K-Means Clustering table)"
   ]
  },
  {
   "cell_type": "markdown",
   "id": "1b0f3ee4",
   "metadata": {},
   "source": [
    "Clustering for Agglomerative Clustering"
   ]
  },
  {
   "cell_type": "code",
   "execution_count": 44,
   "id": "67a5abe3",
   "metadata": {},
   "outputs": [
    {
     "data": {
      "text/plain": [
       "<Figure size 432x288 with 0 Axes>"
      ]
     },
     "execution_count": 44,
     "metadata": {},
     "output_type": "execute_result"
    },
    {
     "data": {
      "image/png": "[encoded data removed]",
      "text/plain": [
       "<Figure size 432x288 with 1 Axes>"
      ]
     },
     "metadata": {
      "needs_background": "light"
     },
     "output_type": "display_data"
    },
    {
     "data": {
      "text/plain": [
       "<Figure size 432x288 with 0 Axes>"
      ]
     },
     "metadata": {},
     "output_type": "display_data"
    }
   ],
   "source": [
    "# Build the Agglomerative Clustering model with the optimal number of clusters\n",
    "agg = AgglomerativeClustering(n_clusters=3)\n",
    "pred_agg = agg.fit_predict(X_scaled)\n",
    "\n",
    "# Plot the clusters formed by the Agglomerative\n",
    "plt.scatter(X_scaled[:, 0], X_scaled[:, 1], c=pred_agg, cmap='viridis')\n",
    "plt.title('Agglomerative Clustering')\n",
    "plt.xlabel('sex')\n",
    "plt.ylabel('bmi')\n",
    "plt.figure()"
   ]
  },
  {
   "cell_type": "markdown",
   "id": "e900261e",
   "metadata": {},
   "source": [
    "We can see that in lower left corner,yellow has a small cluster,having low-moderate bmis and low sex (tends to be male),and we can see that purple and cyan has been distributed wider compared to yellow when cyan tends to have moderate-high bmi and have males more than females,purple tends to have low-moderate bmi and have females more than males."
   ]
  },
  {
   "cell_type": "markdown",
   "id": "962675b6",
   "metadata": {},
   "source": [
    "Silhouette Table for Agglomerative Clustering"
   ]
  },
  {
   "cell_type": "code",
   "execution_count": 43,
   "id": "9cb343c0",
   "metadata": {},
   "outputs": [
    {
     "data": {
      "image/png": "[encoded data removed]",
      "text/plain": [
       "<Figure size 432x288 with 1 Axes>"
      ]
     },
     "metadata": {
      "needs_background": "light"
     },
     "output_type": "display_data"
    }
   ],
   "source": [
    "# Calculate the silhouette scores for the Agglomerative model\n",
    "scores_agg = silhouette_samples(X_scaled, pred_agg)\n",
    "# Create a DataFrame to store the silhouette scores and cluster labels\n",
    "score_agg_df = pd.DataFrame({'score': scores_agg, 'label': pred_agg})\n",
    "\n",
    "# Group the scores by cluster label and compute summary statistics\n",
    "stats_agg = score_agg_df.groupby('label').agg(['mean', 'std'])\n",
    "# Create a figure and axis\n",
    "fig, ax = plt.subplots()\n",
    "\n",
    "# Plot the mean and standard deviation of the silhouette scores\n",
    "ax.barh(stats_agg.index, stats_agg['score']['mean'], align='center', alpha=0.5, ecolor='black', capsize=10,color = ['purple','yellow','cyan'])\n",
    "\n",
    "# Add axis labels and a title\n",
    "ax.set_xlabel('Cluster label')\n",
    "ax.set_ylabel('Silhouette score')\n",
    "ax.set_title('Silhouette Score of Agglomerative')\n",
    "plt.show()"
   ]
  },
  {
   "cell_type": "markdown",
   "id": "3550af64",
   "metadata": {},
   "source": [
    "We have highest silhouette score with cyan,meaning it is widely distributed and doesn't overlap.Purple has a low silhouette score even though it is widely distributed in the Agglomerative Clustering table,thats because there is more amount of data in purple cluster and despite its wideness,it still overlaps.And yellow has a moderate silhouette score and small cluster,meaning it has a lower amount of data compared to purple,maybe cyan.it overlaps less compared to purple."
   ]
  }
 ],
 "metadata": {
  "kernelspec": {
   "display_name": "Python 3",
   "language": "python",
   "name": "python3"
  },
  "language_info": {
   "codemirror_mode": {
    "name": "ipython",
    "version": 3
   },
   "file_extension": ".py",
   "mimetype": "text/x-python",
   "name": "python",
   "nbconvert_exporter": "python",
   "pygments_lexer": "ipython3",
   "version": "3.8.8"
  }
 },
 "nbformat": 4,
 "nbformat_minor": 5
}
